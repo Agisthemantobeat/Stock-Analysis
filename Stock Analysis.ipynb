{
 "cells": [
  {
   "cell_type": "code",
   "execution_count": 1,
   "metadata": {},
   "outputs": [],
   "source": [
    "#This program predicts stock prices by using machine learning\n",
    "#Install the dependencies\n",
    "import quandl\n",
    "\n",
    "import numpy as np\n",
    "from sklearn.linear_model import LinearRegression\n",
    "from sklearn.svm import SVR\n",
    "from sklearn.model_selection import train_test_split"
   ]
  },
  {
   "cell_type": "code",
   "execution_count": 2,
   "metadata": {},
   "outputs": [
    {
     "name": "stdout",
     "output_type": "stream",
     "text": [
      "             Open   High    Low  Close     Volume  Ex-Dividend  Split Ratio  \\\n",
      "Date                                                                          \n",
      "1997-05-16  22.38  23.75  20.50  20.75  1225000.0          0.0          1.0   \n",
      "1997-05-19  20.50  21.25  19.50  20.50   508900.0          0.0          1.0   \n",
      "1997-05-20  20.75  21.00  19.63  19.63   455600.0          0.0          1.0   \n",
      "1997-05-21  19.25  19.75  16.50  17.13  1571100.0          0.0          1.0   \n",
      "1997-05-22  17.25  17.38  15.75  16.75   981400.0          0.0          1.0   \n",
      "\n",
      "            Adj. Open  Adj. High  Adj. Low  Adj. Close  Adj. Volume  \n",
      "Date                                                                 \n",
      "1997-05-16   1.865000   1.979167  1.708333    1.729167   14700000.0  \n",
      "1997-05-19   1.708333   1.770833  1.625000    1.708333    6106800.0  \n",
      "1997-05-20   1.729167   1.750000  1.635833    1.635833    5467200.0  \n",
      "1997-05-21   1.604167   1.645833  1.375000    1.427500   18853200.0  \n",
      "1997-05-22   1.437500   1.448333  1.312500    1.395833   11776800.0  \n"
     ]
    }
   ],
   "source": [
    "#Get the stock data\n",
    "df =quandl.get(\"WIKI/AMZN\")\n",
    "# Take a look at the data\n",
    "print(df.head())"
   ]
  },
  {
   "cell_type": "code",
   "execution_count": 3,
   "metadata": {},
   "outputs": [
    {
     "name": "stdout",
     "output_type": "stream",
     "text": [
      "            Adj. Close\n",
      "Date                  \n",
      "1997-05-16    1.729167\n",
      "1997-05-19    1.708333\n",
      "1997-05-20    1.635833\n",
      "1997-05-21    1.427500\n",
      "1997-05-22    1.395833\n"
     ]
    }
   ],
   "source": [
    "# Get the Adjusted Close Price\n",
    "df = df[['Adj. Close']]\n",
    "#Take a look at the new data\n",
    "print(df . head())"
   ]
  },
  {
   "cell_type": "code",
   "execution_count": 4,
   "metadata": {},
   "outputs": [
    {
     "data": {
      "text/html": [
       "<div>\n",
       "<style scoped>\n",
       "    .dataframe tbody tr th:only-of-type {\n",
       "        vertical-align: middle;\n",
       "    }\n",
       "\n",
       "    .dataframe tbody tr th {\n",
       "        vertical-align: top;\n",
       "    }\n",
       "\n",
       "    .dataframe thead th {\n",
       "        text-align: right;\n",
       "    }\n",
       "</style>\n",
       "<table border=\"1\" class=\"dataframe\">\n",
       "  <thead>\n",
       "    <tr style=\"text-align: right;\">\n",
       "      <th></th>\n",
       "      <th>Adj. Close</th>\n",
       "    </tr>\n",
       "    <tr>\n",
       "      <th>Date</th>\n",
       "      <th></th>\n",
       "    </tr>\n",
       "  </thead>\n",
       "  <tbody>\n",
       "    <tr>\n",
       "      <th>2018-02-06</th>\n",
       "      <td>1442.84</td>\n",
       "    </tr>\n",
       "    <tr>\n",
       "      <th>2018-02-07</th>\n",
       "      <td>1416.78</td>\n",
       "    </tr>\n",
       "    <tr>\n",
       "      <th>2018-02-08</th>\n",
       "      <td>1350.47</td>\n",
       "    </tr>\n",
       "    <tr>\n",
       "      <th>2018-02-09</th>\n",
       "      <td>1338.99</td>\n",
       "    </tr>\n",
       "    <tr>\n",
       "      <th>2018-02-12</th>\n",
       "      <td>1386.23</td>\n",
       "    </tr>\n",
       "    <tr>\n",
       "      <th>2018-02-13</th>\n",
       "      <td>1414.51</td>\n",
       "    </tr>\n",
       "    <tr>\n",
       "      <th>2018-02-14</th>\n",
       "      <td>1451.05</td>\n",
       "    </tr>\n",
       "    <tr>\n",
       "      <th>2018-02-15</th>\n",
       "      <td>1461.76</td>\n",
       "    </tr>\n",
       "    <tr>\n",
       "      <th>2018-02-16</th>\n",
       "      <td>1448.69</td>\n",
       "    </tr>\n",
       "    <tr>\n",
       "      <th>2018-02-20</th>\n",
       "      <td>1468.35</td>\n",
       "    </tr>\n",
       "    <tr>\n",
       "      <th>2018-02-21</th>\n",
       "      <td>1482.92</td>\n",
       "    </tr>\n",
       "    <tr>\n",
       "      <th>2018-02-22</th>\n",
       "      <td>1484.76</td>\n",
       "    </tr>\n",
       "    <tr>\n",
       "      <th>2018-02-23</th>\n",
       "      <td>1500.00</td>\n",
       "    </tr>\n",
       "    <tr>\n",
       "      <th>2018-02-26</th>\n",
       "      <td>1521.95</td>\n",
       "    </tr>\n",
       "    <tr>\n",
       "      <th>2018-02-27</th>\n",
       "      <td>1511.98</td>\n",
       "    </tr>\n",
       "    <tr>\n",
       "      <th>2018-02-28</th>\n",
       "      <td>1512.45</td>\n",
       "    </tr>\n",
       "    <tr>\n",
       "      <th>2018-03-01</th>\n",
       "      <td>1493.45</td>\n",
       "    </tr>\n",
       "    <tr>\n",
       "      <th>2018-03-02</th>\n",
       "      <td>1500.25</td>\n",
       "    </tr>\n",
       "    <tr>\n",
       "      <th>2018-03-05</th>\n",
       "      <td>1523.61</td>\n",
       "    </tr>\n",
       "    <tr>\n",
       "      <th>2018-03-06</th>\n",
       "      <td>1537.64</td>\n",
       "    </tr>\n",
       "    <tr>\n",
       "      <th>2018-03-07</th>\n",
       "      <td>1545.00</td>\n",
       "    </tr>\n",
       "    <tr>\n",
       "      <th>2018-03-08</th>\n",
       "      <td>1551.86</td>\n",
       "    </tr>\n",
       "    <tr>\n",
       "      <th>2018-03-09</th>\n",
       "      <td>1578.89</td>\n",
       "    </tr>\n",
       "    <tr>\n",
       "      <th>2018-03-12</th>\n",
       "      <td>1598.39</td>\n",
       "    </tr>\n",
       "    <tr>\n",
       "      <th>2018-03-13</th>\n",
       "      <td>1588.18</td>\n",
       "    </tr>\n",
       "    <tr>\n",
       "      <th>2018-03-14</th>\n",
       "      <td>1591.00</td>\n",
       "    </tr>\n",
       "    <tr>\n",
       "      <th>2018-03-15</th>\n",
       "      <td>1582.32</td>\n",
       "    </tr>\n",
       "    <tr>\n",
       "      <th>2018-03-16</th>\n",
       "      <td>1571.68</td>\n",
       "    </tr>\n",
       "    <tr>\n",
       "      <th>2018-03-19</th>\n",
       "      <td>1544.93</td>\n",
       "    </tr>\n",
       "    <tr>\n",
       "      <th>2018-03-20</th>\n",
       "      <td>1586.51</td>\n",
       "    </tr>\n",
       "    <tr>\n",
       "      <th>2018-03-21</th>\n",
       "      <td>1581.86</td>\n",
       "    </tr>\n",
       "    <tr>\n",
       "      <th>2018-03-22</th>\n",
       "      <td>1544.10</td>\n",
       "    </tr>\n",
       "    <tr>\n",
       "      <th>2018-03-23</th>\n",
       "      <td>1495.56</td>\n",
       "    </tr>\n",
       "    <tr>\n",
       "      <th>2018-03-26</th>\n",
       "      <td>1555.86</td>\n",
       "    </tr>\n",
       "    <tr>\n",
       "      <th>2018-03-27</th>\n",
       "      <td>1497.05</td>\n",
       "    </tr>\n",
       "  </tbody>\n",
       "</table>\n",
       "</div>"
      ],
      "text/plain": [
       "            Adj. Close\n",
       "Date                  \n",
       "2018-02-06     1442.84\n",
       "2018-02-07     1416.78\n",
       "2018-02-08     1350.47\n",
       "2018-02-09     1338.99\n",
       "2018-02-12     1386.23\n",
       "2018-02-13     1414.51\n",
       "2018-02-14     1451.05\n",
       "2018-02-15     1461.76\n",
       "2018-02-16     1448.69\n",
       "2018-02-20     1468.35\n",
       "2018-02-21     1482.92\n",
       "2018-02-22     1484.76\n",
       "2018-02-23     1500.00\n",
       "2018-02-26     1521.95\n",
       "2018-02-27     1511.98\n",
       "2018-02-28     1512.45\n",
       "2018-03-01     1493.45\n",
       "2018-03-02     1500.25\n",
       "2018-03-05     1523.61\n",
       "2018-03-06     1537.64\n",
       "2018-03-07     1545.00\n",
       "2018-03-08     1551.86\n",
       "2018-03-09     1578.89\n",
       "2018-03-12     1598.39\n",
       "2018-03-13     1588.18\n",
       "2018-03-14     1591.00\n",
       "2018-03-15     1582.32\n",
       "2018-03-16     1571.68\n",
       "2018-03-19     1544.93\n",
       "2018-03-20     1586.51\n",
       "2018-03-21     1581.86\n",
       "2018-03-22     1544.10\n",
       "2018-03-23     1495.56\n",
       "2018-03-26     1555.86\n",
       "2018-03-27     1497.05"
      ]
     },
     "execution_count": 4,
     "metadata": {},
     "output_type": "execute_result"
    }
   ],
   "source": [
    "df.tail(35)"
   ]
  },
  {
   "cell_type": "code",
   "execution_count": 5,
   "metadata": {},
   "outputs": [
    {
     "name": "stdout",
     "output_type": "stream",
     "text": [
      "            Adj. Close  Prediction\n",
      "Date                              \n",
      "2018-03-21     1581.86         NaN\n",
      "2018-03-22     1544.10         NaN\n",
      "2018-03-23     1495.56         NaN\n",
      "2018-03-26     1555.86         NaN\n",
      "2018-03-27     1497.05         NaN\n"
     ]
    }
   ],
   "source": [
    "# A variable for predicting 'n' days out into the future\n",
    "forecast_out = 30\n",
    "#Create another column (the target or dependent variable) shifted 'n' units up\n",
    "df['Prediction'] = df[['Adj. Close' ]].shift(-forecast_out)\n",
    "#print the new data set\n",
    "print (df.tail())\n"
   ]
  },
  {
   "cell_type": "code",
   "execution_count": 6,
   "metadata": {},
   "outputs": [
    {
     "data": {
      "text/html": [
       "<div>\n",
       "<style scoped>\n",
       "    .dataframe tbody tr th:only-of-type {\n",
       "        vertical-align: middle;\n",
       "    }\n",
       "\n",
       "    .dataframe tbody tr th {\n",
       "        vertical-align: top;\n",
       "    }\n",
       "\n",
       "    .dataframe thead th {\n",
       "        text-align: right;\n",
       "    }\n",
       "</style>\n",
       "<table border=\"1\" class=\"dataframe\">\n",
       "  <thead>\n",
       "    <tr style=\"text-align: right;\">\n",
       "      <th></th>\n",
       "      <th>Adj. Close</th>\n",
       "      <th>Prediction</th>\n",
       "    </tr>\n",
       "    <tr>\n",
       "      <th>Date</th>\n",
       "      <th></th>\n",
       "      <th></th>\n",
       "    </tr>\n",
       "  </thead>\n",
       "  <tbody>\n",
       "    <tr>\n",
       "      <th>1997-05-16</th>\n",
       "      <td>1.729167</td>\n",
       "      <td>1.541667</td>\n",
       "    </tr>\n",
       "    <tr>\n",
       "      <th>1997-05-19</th>\n",
       "      <td>1.708333</td>\n",
       "      <td>1.515833</td>\n",
       "    </tr>\n",
       "    <tr>\n",
       "      <th>1997-05-20</th>\n",
       "      <td>1.635833</td>\n",
       "      <td>1.588333</td>\n",
       "    </tr>\n",
       "    <tr>\n",
       "      <th>1997-05-21</th>\n",
       "      <td>1.427500</td>\n",
       "      <td>1.911667</td>\n",
       "    </tr>\n",
       "    <tr>\n",
       "      <th>1997-05-22</th>\n",
       "      <td>1.395833</td>\n",
       "      <td>2.000000</td>\n",
       "    </tr>\n",
       "    <tr>\n",
       "      <th>...</th>\n",
       "      <td>...</td>\n",
       "      <td>...</td>\n",
       "    </tr>\n",
       "    <tr>\n",
       "      <th>2018-03-21</th>\n",
       "      <td>1581.860000</td>\n",
       "      <td>NaN</td>\n",
       "    </tr>\n",
       "    <tr>\n",
       "      <th>2018-03-22</th>\n",
       "      <td>1544.100000</td>\n",
       "      <td>NaN</td>\n",
       "    </tr>\n",
       "    <tr>\n",
       "      <th>2018-03-23</th>\n",
       "      <td>1495.560000</td>\n",
       "      <td>NaN</td>\n",
       "    </tr>\n",
       "    <tr>\n",
       "      <th>2018-03-26</th>\n",
       "      <td>1555.860000</td>\n",
       "      <td>NaN</td>\n",
       "    </tr>\n",
       "    <tr>\n",
       "      <th>2018-03-27</th>\n",
       "      <td>1497.050000</td>\n",
       "      <td>NaN</td>\n",
       "    </tr>\n",
       "  </tbody>\n",
       "</table>\n",
       "<p>5248 rows × 2 columns</p>\n",
       "</div>"
      ],
      "text/plain": [
       "             Adj. Close  Prediction\n",
       "Date                               \n",
       "1997-05-16     1.729167    1.541667\n",
       "1997-05-19     1.708333    1.515833\n",
       "1997-05-20     1.635833    1.588333\n",
       "1997-05-21     1.427500    1.911667\n",
       "1997-05-22     1.395833    2.000000\n",
       "...                 ...         ...\n",
       "2018-03-21  1581.860000         NaN\n",
       "2018-03-22  1544.100000         NaN\n",
       "2018-03-23  1495.560000         NaN\n",
       "2018-03-26  1555.860000         NaN\n",
       "2018-03-27  1497.050000         NaN\n",
       "\n",
       "[5248 rows x 2 columns]"
      ]
     },
     "execution_count": 6,
     "metadata": {},
     "output_type": "execute_result"
    }
   ],
   "source": [
    "df"
   ]
  },
  {
   "cell_type": "code",
   "execution_count": 7,
   "metadata": {},
   "outputs": [
    {
     "name": "stdout",
     "output_type": "stream",
     "text": [
      "[[   1.72916667]\n",
      " [   1.70833333]\n",
      " [   1.63583333]\n",
      " ...\n",
      " [1350.47      ]\n",
      " [1338.99      ]\n",
      " [1386.23      ]]\n"
     ]
    }
   ],
   "source": [
    "### Create the independent data set (X) ######\n",
    "# Convert the dataframe to a numpy array\n",
    "X = np. array(df.drop(['Prediction'],1))\n",
    "#Remove the last 'n' rows\n",
    "X = X[ :-forecast_out]\n",
    "print (X)"
   ]
  },
  {
   "cell_type": "code",
   "execution_count": 8,
   "metadata": {},
   "outputs": [
    {
     "name": "stdout",
     "output_type": "stream",
     "text": [
      "[1.54166667e+00 1.51583333e+00 1.58833333e+00 ... 1.49556000e+03\n",
      " 1.55586000e+03 1.49705000e+03]\n"
     ]
    }
   ],
   "source": [
    "### Create the dependent data set (y) #########\n",
    "# Convert the dataframe to a numpy array (All of the values including the NaN's)\n",
    "y = np. array(df['Prediction'])\n",
    "# Get all of the y values except the last 'n' rows\n",
    "y = y[ :-forecast_out]\n",
    "print(y)"
   ]
  },
  {
   "cell_type": "code",
   "execution_count": 9,
   "metadata": {},
   "outputs": [],
   "source": [
    "# Split the data into 80% training and 20% testing\n",
    "x_train, x_test, y_train, y_test = train_test_split(X, y, test_size=0.2)"
   ]
  },
  {
   "cell_type": "code",
   "execution_count": 10,
   "metadata": {},
   "outputs": [
    {
     "data": {
      "text/plain": [
       "SVR(C=1000.0, gamma=0.1)"
      ]
     },
     "execution_count": 10,
     "metadata": {},
     "output_type": "execute_result"
    }
   ],
   "source": [
    "# Create and train the Support Vector Machine (Regressor)\n",
    "svr_rbf = SVR(kernel='rbf', C=1e3, gamma=0.1)\n",
    "svr_rbf. fit(x_train, y_train)"
   ]
  },
  {
   "cell_type": "code",
   "execution_count": 11,
   "metadata": {},
   "outputs": [
    {
     "name": "stdout",
     "output_type": "stream",
     "text": [
      "svm confidence:  0.9590920888893184\n"
     ]
    }
   ],
   "source": [
    "# Testing Model: Score returns the coefficient of determination R^2 of the prediction.\n",
    "# The best possible score is 1.0\n",
    "svm_confidence = svr_rbf.score(x_test, y_test)\n",
    "print(\"svm confidence: \", svm_confidence)\n"
   ]
  },
  {
   "cell_type": "code",
   "execution_count": 12,
   "metadata": {},
   "outputs": [
    {
     "data": {
      "text/plain": [
       "LinearRegression()"
      ]
     },
     "execution_count": 12,
     "metadata": {},
     "output_type": "execute_result"
    }
   ],
   "source": [
    "# Create and train the Linear Regression Model\n",
    "lr = LinearRegression()\n",
    "# Train the model\n",
    "lr.fit(x_train, y_train)\n"
   ]
  },
  {
   "cell_type": "code",
   "execution_count": 13,
   "metadata": {},
   "outputs": [
    {
     "name": "stdout",
     "output_type": "stream",
     "text": [
      "lr confidence:  0.9890447643851789\n"
     ]
    }
   ],
   "source": [
    "# Testing Model: Score returns the coefficient of determination R^2 of the prediction.\n",
    "# The best possible score is 1.8\n",
    "lr_confidence = lr. score(x_test, y_test)\n",
    "print(\"lr confidence: \", lr_confidence)"
   ]
  },
  {
   "cell_type": "code",
   "execution_count": 14,
   "metadata": {},
   "outputs": [
    {
     "name": "stdout",
     "output_type": "stream",
     "text": [
      "[[1414.51]\n",
      " [1451.05]\n",
      " [1461.76]\n",
      " [1448.69]\n",
      " [1468.35]\n",
      " [1482.92]\n",
      " [1484.76]\n",
      " [1500.  ]\n",
      " [1521.95]\n",
      " [1511.98]\n",
      " [1512.45]\n",
      " [1493.45]\n",
      " [1500.25]\n",
      " [1523.61]\n",
      " [1537.64]\n",
      " [1545.  ]\n",
      " [1551.86]\n",
      " [1578.89]\n",
      " [1598.39]\n",
      " [1588.18]\n",
      " [1591.  ]\n",
      " [1582.32]\n",
      " [1571.68]\n",
      " [1544.93]\n",
      " [1586.51]\n",
      " [1581.86]\n",
      " [1544.1 ]\n",
      " [1495.56]\n",
      " [1555.86]\n",
      " [1497.05]]\n"
     ]
    }
   ],
   "source": [
    "# Set x_forecast equal to the last 30 rows of the original data set from Adj. Close column\n",
    "x_forecast = np. array(df.drop(['Prediction'],1))[-forecast_out:]\n",
    "print(x_forecast)"
   ]
  },
  {
   "cell_type": "code",
   "execution_count": 15,
   "metadata": {},
   "outputs": [
    {
     "name": "stdout",
     "output_type": "stream",
     "text": [
      "[1499.79395304 1538.62212447 1550.0027954  1536.1143389  1557.00546781\n",
      " 1572.48785581 1574.44307846 1590.63742253 1613.96195353 1603.36762214\n",
      " 1603.86705401 1583.67725497 1590.90307778 1615.72590439 1630.63447706\n",
      " 1638.45536763 1645.74494771 1674.4675934  1695.18870295 1684.33934251\n",
      " 1687.33593374 1678.11238344 1666.80609598 1638.38098416 1682.56476544\n",
      " 1677.62357778 1637.49900873 1585.91938528 1649.99543172 1587.50269057]\n"
     ]
    }
   ],
   "source": [
    "#Print linear regression model predictions for the next 'n' days\n",
    "lr_prediction = lr.predict(x_forecast)\n",
    "print(lr_prediction)"
   ]
  },
  {
   "cell_type": "code",
   "execution_count": 16,
   "metadata": {},
   "outputs": [
    {
     "name": "stdout",
     "output_type": "stream",
     "text": [
      "[1058.4769904  1550.9541541   679.81791617 1082.63031022  679.78508926\n",
      "  679.78508926  679.78508926  679.78508926  679.78508926  679.78508926\n",
      "  679.78508926  679.78508926  679.78508926  679.78508926  679.78508926\n",
      "  679.78508926  679.78508926  679.78508926  679.78508926  679.78508926\n",
      "  679.78508926  679.78508926  679.78508926  679.78508926  679.78508926\n",
      "  679.78508926  679.78508926  679.78508926  679.78508926  679.78508926]\n"
     ]
    }
   ],
   "source": [
    "# Print support vector regressor model predictions for the next 'n' days\n",
    "svm_prediction = svr_rbf.predict(x_forecast)\n",
    "print(svm_prediction)"
   ]
  },
  {
   "cell_type": "code",
   "execution_count": null,
   "metadata": {},
   "outputs": [],
   "source": []
  },
  {
   "cell_type": "code",
   "execution_count": null,
   "metadata": {},
   "outputs": [],
   "source": []
  }
 ],
 "metadata": {
  "kernelspec": {
   "display_name": "Python 3.8.2 64-bit",
   "language": "python",
   "name": "python38264bitce31c7c4e88140d5876282452fcabdda"
  },
  "language_info": {
   "codemirror_mode": {
    "name": "ipython",
    "version": 3
   },
   "file_extension": ".py",
   "mimetype": "text/x-python",
   "name": "python",
   "nbconvert_exporter": "python",
   "pygments_lexer": "ipython3",
   "version": "3.8.2"
  }
 },
 "nbformat": 4,
 "nbformat_minor": 4
}
